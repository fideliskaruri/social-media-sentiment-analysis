{
  "cells": [
    {
      "cell_type": "markdown",
      "metadata": {
        "id": "vmJbspQqJo6M"
      },
      "source": [
        "## Import and Initialize the model"
      ]
    },
    {
      "cell_type": "code",
      "execution_count": 1,
      "metadata": {
        "colab": {
          "base_uri": "https://localhost:8080/"
        },
        "id": "08VfTMp2CMt8",
        "outputId": "1a157af9-ec9e-4b0a-af6a-c0d2bb2f3bf5"
      },
      "outputs": [
        {
          "name": "stderr",
          "output_type": "stream",
          "text": [
            "c:\\Users\\t-fwachira\\AppData\\Local\\Programs\\Python\\Python312\\Lib\\site-packages\\tqdm\\auto.py:21: TqdmWarning: IProgress not found. Please update jupyter and ipywidgets. See https://ipywidgets.readthedocs.io/en/stable/user_install.html\n",
            "  from .autonotebook import tqdm as notebook_tqdm\n",
            "c:\\Users\\t-fwachira\\AppData\\Local\\Programs\\Python\\Python312\\Lib\\site-packages\\huggingface_hub\\file_download.py:1132: FutureWarning: `resume_download` is deprecated and will be removed in version 1.0.0. Downloads always resume when possible. If you want to force a new download, use `force_download=True`.\n",
            "  warnings.warn(\n",
            "Some weights of the model checkpoint at cardiffnlp/twitter-roberta-base-sentiment-latest were not used when initializing RobertaForSequenceClassification: ['roberta.pooler.dense.bias', 'roberta.pooler.dense.weight']\n",
            "- This IS expected if you are initializing RobertaForSequenceClassification from the checkpoint of a model trained on another task or with another architecture (e.g. initializing a BertForSequenceClassification model from a BertForPreTraining model).\n",
            "- This IS NOT expected if you are initializing RobertaForSequenceClassification from the checkpoint of a model that you expect to be exactly identical (initializing a BertForSequenceClassification model from a BertForSequenceClassification model).\n"
          ]
        }
      ],
      "source": [
        "from transformers import AutoTokenizer, AutoModelForSequenceClassification\n",
        "from scipy.special import softmax\n",
        "import torch\n",
        "import pandas as pd\n",
        "\n",
        "\n",
        "\n",
        "roberta = \"cardiffnlp/twitter-roberta-base-sentiment-latest\"\n",
        "tokenizer = AutoTokenizer.from_pretrained(roberta)\n",
        "\n",
        "device = torch.device(\"cuda:0\" if torch.cuda.is_available() else \"cpu\")\n",
        "model = AutoModelForSequenceClassification.from_pretrained(roberta).to(device)\n",
        "\n"
      ]
    },
    {
      "cell_type": "markdown",
      "metadata": {
        "id": "bINjWPS-J2vL"
      },
      "source": [
        "## Analyze Text and output results as a Dataframe"
      ]
    },
    {
      "cell_type": "code",
      "execution_count": 11,
      "metadata": {
        "id": "tbUfBUiMLVFN"
      },
      "outputs": [],
      "source": [
        "from tqdm import tqdm \n",
        "\n",
        "# Initialize a dictionary to store overall sentiment counts\n",
        "def AnalyzeSentiment(comments):\n",
        "    results = []\n",
        "    overall_sentiments = {'negative': int(0), 'neutral': int(\n",
        "        0), 'positive': int(0)}  # Initializing with integer values\n",
        "\n",
        "    for i, comment in tqdm(enumerate(comments), total=len(comments), desc=\"Progress...\" ):\n",
        "        \n",
        "        tokens = tokenizer.tokenize(comment['text'])\n",
        "        if len(tokens) > 514: \n",
        "            continue\n",
        "        encoded_text = tokenizer(\n",
        "            comment['text'], return_tensors='pt').to(device)\n",
        "        \n",
        "        # print(f\"Encoded text length: {len(encoded_text[1])}\")\n",
        "        output = model(**encoded_text)\n",
        "        scores = output.logits[0].cpu().detach().numpy()\n",
        "        scores = softmax(scores)\n",
        "        max_index = scores.argmax()\n",
        "        label = ['negative', 'neutral', 'positive'][max_index]\n",
        "\n",
        "        # Update overall sentiment counts\n",
        "        overall_sentiments[label] += 1\n",
        "\n",
        "        result = {\n",
        "            'text': comment['text'],  # Adjust to 'text' key\n",
        "            'published_at': comment['published_at'],\n",
        "            'like_count': int(comment['like_count']),  # Convert to int\n",
        "            'negative': float(scores[0]),  # Convert to float\n",
        "            'neutral': float(scores[1]),  # Convert to float\n",
        "            'positive': float(scores[2]),  # Convert to float\n",
        "            'overall_sentiment': label\n",
        "        }\n",
        "        results.append(result)\n",
        "\n",
        "    # Append modified overall sentiment counts to results\n",
        "    results.append(overall_sentiments)\n",
        "    return results\n"
      ]
    },
    {
      "cell_type": "markdown",
      "metadata": {
        "id": "BvdpZAKjJMrC"
      },
      "source": [
        "## Using the Youtube Data API to fetch comments from a Video"
      ]
    },
    {
      "cell_type": "code",
      "execution_count": 18,
      "metadata": {
        "id": "X_u_lIAQJKoW"
      },
      "outputs": [],
      "source": [
        "import os\n",
        "import googleapiclient.discovery\n",
        "\n",
        "import googleapiclient.errors\n",
        "\n",
        "from dotenv import load_dotenv\n",
        "\n",
        "load_dotenv()\n",
        "\n",
        "api_service_name = \"youtube\"\n",
        "api_version = \"v3\"\n",
        "YOUTUBE_API_KEY = os.getenv(\"YOUTUBE_API_KEY\")\n",
        "\n",
        "\n",
        "youtube = googleapiclient.discovery.build(\n",
        "\n",
        "    api_service_name, api_version, developerKey=YOUTUBE_API_KEY\n",
        "\n",
        ")\n",
        "\n",
        "\n",
        "# fetch comments from a youtube video\n",
        "def fetchAllComments(video_id, pageToken=None):\n",
        "    items = []\n",
        "    # maxCount = 5000\n",
        "\n",
        "    while True:\n",
        "        request = youtube.commentThreads().list(\n",
        "            part=\"snippet\",\n",
        "            videoId=video_id,\n",
        "            maxResults=100,\n",
        "            pageToken=pageToken\n",
        "        )\n",
        "\n",
        "        response = request.execute()\n",
        "        items.extend(response['items'])\n",
        "        # if len(items) >= maxCount:\n",
        "        #     break\n",
        "        if 'nextPageToken' in response:\n",
        "            pageToken = response['nextPageToken']\n",
        "        else:\n",
        "            break\n",
        "\n",
        "           # output as df\n",
        "    comments = []\n",
        "\n",
        "    for item in items:\n",
        "        comment = item['snippet']['topLevelComment']['snippet']\n",
        "        comment_info = {\n",
        "            # comment['authorDisplayName'],\n",
        "            'published_at': comment['publishedAt'],\n",
        "            # comment['updatedAt'],\n",
        "            'like_count': comment['likeCount'],\n",
        "            'text': comment['textDisplay']\n",
        "        }\n",
        "        comments.append(comment_info)\n",
        "\n",
        "    return comments\n",
        "\n",
        "\n",
        "#full link https://www.youtube.com/watch?v=4_UDm-nCjeA\n",
        "\n",
        "video_id = \"Oy8zSYKkczI\"\n",
        "\n",
        "items = fetchAllComments(video_id)"
      ]
    },
    {
      "cell_type": "markdown",
      "metadata": {
        "id": "E5tliK6KJW72"
      },
      "source": [
        "## Output as DataFrame"
      ]
    },
    {
      "cell_type": "code",
      "execution_count": 9,
      "metadata": {
        "colab": {
          "base_uri": "https://localhost:8080/",
          "height": 597
        },
        "id": "0QYSKgsJJbTJ",
        "outputId": "d1d21c65-6728-40ed-8530-65a0700e8dd5"
      },
      "outputs": [
        {
          "data": {
            "text/html": [
              "<div>\n",
              "<style scoped>\n",
              "    .dataframe tbody tr th:only-of-type {\n",
              "        vertical-align: middle;\n",
              "    }\n",
              "\n",
              "    .dataframe tbody tr th {\n",
              "        vertical-align: top;\n",
              "    }\n",
              "\n",
              "    .dataframe thead th {\n",
              "        text-align: right;\n",
              "    }\n",
              "</style>\n",
              "<table border=\"1\" class=\"dataframe\">\n",
              "  <thead>\n",
              "    <tr style=\"text-align: right;\">\n",
              "      <th></th>\n",
              "      <th>author</th>\n",
              "      <th>published_at</th>\n",
              "      <th>updated_at</th>\n",
              "      <th>like_count</th>\n",
              "      <th>text</th>\n",
              "    </tr>\n",
              "  </thead>\n",
              "  <tbody>\n",
              "    <tr>\n",
              "      <th>0</th>\n",
              "      <td>@Threelittlepeople1</td>\n",
              "      <td>2024-05-30T19:32:56Z</td>\n",
              "      <td>2024-05-30T19:32:56Z</td>\n",
              "      <td>0</td>\n",
              "      <td>Handy boy for game boy by STD is wild.</td>\n",
              "    </tr>\n",
              "    <tr>\n",
              "      <th>1</th>\n",
              "      <td>@mohwe1007</td>\n",
              "      <td>2024-05-12T01:50:55Z</td>\n",
              "      <td>2024-05-12T01:50:55Z</td>\n",
              "      <td>1</td>\n",
              "      <td>The Game Boy&lt;br&gt;&lt;br&gt;The birthplace of Pokémon</td>\n",
              "    </tr>\n",
              "    <tr>\n",
              "      <th>2</th>\n",
              "      <td>@DashIceland</td>\n",
              "      <td>2024-05-10T06:57:00Z</td>\n",
              "      <td>2024-05-10T06:57:00Z</td>\n",
              "      <td>0</td>\n",
              "      <td>Great video</td>\n",
              "    </tr>\n",
              "    <tr>\n",
              "      <th>3</th>\n",
              "      <td>@Youtube-Censorship-Police</td>\n",
              "      <td>2024-05-08T07:37:33Z</td>\n",
              "      <td>2024-05-08T07:37:33Z</td>\n",
              "      <td>1</td>\n",
              "      <td>everybody who doesn&amp;#39;t instantly recognize ...</td>\n",
              "    </tr>\n",
              "    <tr>\n",
              "      <th>4</th>\n",
              "      <td>@Isomnophilia</td>\n",
              "      <td>2024-05-06T21:58:15Z</td>\n",
              "      <td>2024-05-06T21:58:15Z</td>\n",
              "      <td>0</td>\n",
              "      <td>A sealed Gameboy... Was it refurb or a truly s...</td>\n",
              "    </tr>\n",
              "    <tr>\n",
              "      <th>...</th>\n",
              "      <td>...</td>\n",
              "      <td>...</td>\n",
              "      <td>...</td>\n",
              "      <td>...</td>\n",
              "      <td>...</td>\n",
              "    </tr>\n",
              "    <tr>\n",
              "      <th>12562</th>\n",
              "      <td>@AliAkbar-zz4uk</td>\n",
              "      <td>2019-04-19T16:00:29Z</td>\n",
              "      <td>2019-04-19T16:00:29Z</td>\n",
              "      <td>0</td>\n",
              "      <td>Great</td>\n",
              "    </tr>\n",
              "    <tr>\n",
              "      <th>12563</th>\n",
              "      <td>@briankerosene22</td>\n",
              "      <td>2019-04-19T16:00:28Z</td>\n",
              "      <td>2019-04-19T16:00:28Z</td>\n",
              "      <td>0</td>\n",
              "      <td>Nice</td>\n",
              "    </tr>\n",
              "    <tr>\n",
              "      <th>12564</th>\n",
              "      <td>@nicholasfantini8273</td>\n",
              "      <td>2019-04-19T16:00:24Z</td>\n",
              "      <td>2019-04-19T16:00:24Z</td>\n",
              "      <td>0</td>\n",
              "      <td>First</td>\n",
              "    </tr>\n",
              "    <tr>\n",
              "      <th>12565</th>\n",
              "      <td>@suraj9519</td>\n",
              "      <td>2019-04-19T16:00:23Z</td>\n",
              "      <td>2019-04-19T16:00:23Z</td>\n",
              "      <td>1</td>\n",
              "      <td>Hey</td>\n",
              "    </tr>\n",
              "    <tr>\n",
              "      <th>12566</th>\n",
              "      <td>@motorsportsraw2799</td>\n",
              "      <td>2019-04-19T16:00:22Z</td>\n",
              "      <td>2019-04-19T16:00:22Z</td>\n",
              "      <td>3</td>\n",
              "      <td>hi</td>\n",
              "    </tr>\n",
              "  </tbody>\n",
              "</table>\n",
              "<p>12567 rows × 5 columns</p>\n",
              "</div>"
            ],
            "text/plain": [
              "                           author          published_at            updated_at  \\\n",
              "0             @Threelittlepeople1  2024-05-30T19:32:56Z  2024-05-30T19:32:56Z   \n",
              "1                      @mohwe1007  2024-05-12T01:50:55Z  2024-05-12T01:50:55Z   \n",
              "2                    @DashIceland  2024-05-10T06:57:00Z  2024-05-10T06:57:00Z   \n",
              "3      @Youtube-Censorship-Police  2024-05-08T07:37:33Z  2024-05-08T07:37:33Z   \n",
              "4                   @Isomnophilia  2024-05-06T21:58:15Z  2024-05-06T21:58:15Z   \n",
              "...                           ...                   ...                   ...   \n",
              "12562             @AliAkbar-zz4uk  2019-04-19T16:00:29Z  2019-04-19T16:00:29Z   \n",
              "12563            @briankerosene22  2019-04-19T16:00:28Z  2019-04-19T16:00:28Z   \n",
              "12564        @nicholasfantini8273  2019-04-19T16:00:24Z  2019-04-19T16:00:24Z   \n",
              "12565                  @suraj9519  2019-04-19T16:00:23Z  2019-04-19T16:00:23Z   \n",
              "12566         @motorsportsraw2799  2019-04-19T16:00:22Z  2019-04-19T16:00:22Z   \n",
              "\n",
              "       like_count                                               text  \n",
              "0               0             Handy boy for game boy by STD is wild.  \n",
              "1               1      The Game Boy<br><br>The birthplace of Pokémon  \n",
              "2               0                                        Great video  \n",
              "3               1  everybody who doesn&#39;t instantly recognize ...  \n",
              "4               0  A sealed Gameboy... Was it refurb or a truly s...  \n",
              "...           ...                                                ...  \n",
              "12562           0                                              Great  \n",
              "12563           0                                               Nice  \n",
              "12564           0                                              First  \n",
              "12565           1                                                Hey  \n",
              "12566           3                                                 hi  \n",
              "\n",
              "[12567 rows x 5 columns]"
            ]
          },
          "metadata": {},
          "output_type": "display_data"
        }
      ],
      "source": [
        "comments = []\n",
        "\n",
        "for item in items:\n",
        "    comment = item['snippet']['topLevelComment']['snippet']\n",
        "    comments.append([\n",
        "        comment['authorDisplayName'],\n",
        "        comment['publishedAt'],\n",
        "        comment['updatedAt'],\n",
        "        comment['likeCount'],\n",
        "        comment['textDisplay']\n",
        "    ])\n",
        "\n",
        "df = pd.DataFrame(comments, columns=['author', 'published_at', 'updated_at', 'like_count', 'text'])\n",
        "\n",
        "display(df)\n"
      ]
    },
    {
      "cell_type": "markdown",
      "metadata": {
        "id": "ZaDRlO2wbkZy"
      },
      "source": [
        "## Analyze youtube comments"
      ]
    },
    {
      "cell_type": "code",
      "execution_count": 19,
      "metadata": {
        "id": "hGw5F9oSbf4w"
      },
      "outputs": [
        {
          "name": "stderr",
          "output_type": "stream",
          "text": [
            "Progress...: 100%|██████████| 12567/12567 [05:14<00:00, 39.99it/s]\n"
          ]
        }
      ],
      "source": [
        "# print(df['text'])\n",
        "youtubeAnalysisResults = AnalyzeSentiment(comments=items)\n"
      ]
    },
    {
      "cell_type": "code",
      "execution_count": 21,
      "metadata": {
        "colab": {
          "base_uri": "https://localhost:8080/",
          "height": 423
        },
        "id": "Z0digrOKPWuQ",
        "outputId": "33e93ba7-43d3-4a8b-93e9-d28d693686fb"
      },
      "outputs": [
        {
          "data": {
            "text/html": [
              "<div>\n",
              "<style scoped>\n",
              "    .dataframe tbody tr th:only-of-type {\n",
              "        vertical-align: middle;\n",
              "    }\n",
              "\n",
              "    .dataframe tbody tr th {\n",
              "        vertical-align: top;\n",
              "    }\n",
              "\n",
              "    .dataframe thead th {\n",
              "        text-align: right;\n",
              "    }\n",
              "</style>\n",
              "<table border=\"1\" class=\"dataframe\">\n",
              "  <thead>\n",
              "    <tr style=\"text-align: right;\">\n",
              "      <th></th>\n",
              "      <th>text</th>\n",
              "      <th>published_at</th>\n",
              "      <th>like_count</th>\n",
              "      <th>negative</th>\n",
              "      <th>neutral</th>\n",
              "      <th>positive</th>\n",
              "      <th>overall_sentiment</th>\n",
              "    </tr>\n",
              "  </thead>\n",
              "  <tbody>\n",
              "    <tr>\n",
              "      <th>0</th>\n",
              "      <td>Handy boy for game boy by STD is wild.</td>\n",
              "      <td>2024-05-30T19:32:56Z</td>\n",
              "      <td>0.0</td>\n",
              "      <td>0.334921</td>\n",
              "      <td>0.574093</td>\n",
              "      <td>0.090986</td>\n",
              "      <td>neutral</td>\n",
              "    </tr>\n",
              "    <tr>\n",
              "      <th>1</th>\n",
              "      <td>The Game Boy&lt;br&gt;&lt;br&gt;The birthplace of Pokémon</td>\n",
              "      <td>2024-05-12T01:50:55Z</td>\n",
              "      <td>1.0</td>\n",
              "      <td>0.007495</td>\n",
              "      <td>0.713094</td>\n",
              "      <td>0.279411</td>\n",
              "      <td>neutral</td>\n",
              "    </tr>\n",
              "    <tr>\n",
              "      <th>2</th>\n",
              "      <td>Great video</td>\n",
              "      <td>2024-05-10T06:57:00Z</td>\n",
              "      <td>0.0</td>\n",
              "      <td>0.009886</td>\n",
              "      <td>0.047417</td>\n",
              "      <td>0.942697</td>\n",
              "      <td>positive</td>\n",
              "    </tr>\n",
              "    <tr>\n",
              "      <th>3</th>\n",
              "      <td>everybody who doesn&amp;#39;t instantly recognize ...</td>\n",
              "      <td>2024-05-08T07:37:33Z</td>\n",
              "      <td>1.0</td>\n",
              "      <td>0.883647</td>\n",
              "      <td>0.105454</td>\n",
              "      <td>0.010900</td>\n",
              "      <td>negative</td>\n",
              "    </tr>\n",
              "    <tr>\n",
              "      <th>4</th>\n",
              "      <td>A sealed Gameboy... Was it refurb or a truly s...</td>\n",
              "      <td>2024-05-06T21:58:15Z</td>\n",
              "      <td>0.0</td>\n",
              "      <td>0.046080</td>\n",
              "      <td>0.892708</td>\n",
              "      <td>0.061212</td>\n",
              "      <td>neutral</td>\n",
              "    </tr>\n",
              "    <tr>\n",
              "      <th>...</th>\n",
              "      <td>...</td>\n",
              "      <td>...</td>\n",
              "      <td>...</td>\n",
              "      <td>...</td>\n",
              "      <td>...</td>\n",
              "      <td>...</td>\n",
              "      <td>...</td>\n",
              "    </tr>\n",
              "    <tr>\n",
              "      <th>12552</th>\n",
              "      <td>Nice</td>\n",
              "      <td>2019-04-19T16:00:28Z</td>\n",
              "      <td>0.0</td>\n",
              "      <td>0.040874</td>\n",
              "      <td>0.185068</td>\n",
              "      <td>0.774059</td>\n",
              "      <td>positive</td>\n",
              "    </tr>\n",
              "    <tr>\n",
              "      <th>12553</th>\n",
              "      <td>First</td>\n",
              "      <td>2019-04-19T16:00:24Z</td>\n",
              "      <td>0.0</td>\n",
              "      <td>0.089204</td>\n",
              "      <td>0.480304</td>\n",
              "      <td>0.430492</td>\n",
              "      <td>neutral</td>\n",
              "    </tr>\n",
              "    <tr>\n",
              "      <th>12554</th>\n",
              "      <td>Hey</td>\n",
              "      <td>2019-04-19T16:00:23Z</td>\n",
              "      <td>1.0</td>\n",
              "      <td>0.063890</td>\n",
              "      <td>0.488614</td>\n",
              "      <td>0.447495</td>\n",
              "      <td>neutral</td>\n",
              "    </tr>\n",
              "    <tr>\n",
              "      <th>12555</th>\n",
              "      <td>hi</td>\n",
              "      <td>2019-04-19T16:00:22Z</td>\n",
              "      <td>3.0</td>\n",
              "      <td>0.110424</td>\n",
              "      <td>0.472392</td>\n",
              "      <td>0.417184</td>\n",
              "      <td>neutral</td>\n",
              "    </tr>\n",
              "    <tr>\n",
              "      <th>12556</th>\n",
              "      <td>NaN</td>\n",
              "      <td>NaN</td>\n",
              "      <td>NaN</td>\n",
              "      <td>2113.000000</td>\n",
              "      <td>4184.000000</td>\n",
              "      <td>6259.000000</td>\n",
              "      <td>NaN</td>\n",
              "    </tr>\n",
              "  </tbody>\n",
              "</table>\n",
              "<p>12557 rows × 7 columns</p>\n",
              "</div>"
            ],
            "text/plain": [
              "                                                    text  \\\n",
              "0                 Handy boy for game boy by STD is wild.   \n",
              "1          The Game Boy<br><br>The birthplace of Pokémon   \n",
              "2                                            Great video   \n",
              "3      everybody who doesn&#39;t instantly recognize ...   \n",
              "4      A sealed Gameboy... Was it refurb or a truly s...   \n",
              "...                                                  ...   \n",
              "12552                                               Nice   \n",
              "12553                                              First   \n",
              "12554                                                Hey   \n",
              "12555                                                 hi   \n",
              "12556                                                NaN   \n",
              "\n",
              "               published_at  like_count     negative      neutral  \\\n",
              "0      2024-05-30T19:32:56Z         0.0     0.334921     0.574093   \n",
              "1      2024-05-12T01:50:55Z         1.0     0.007495     0.713094   \n",
              "2      2024-05-10T06:57:00Z         0.0     0.009886     0.047417   \n",
              "3      2024-05-08T07:37:33Z         1.0     0.883647     0.105454   \n",
              "4      2024-05-06T21:58:15Z         0.0     0.046080     0.892708   \n",
              "...                     ...         ...          ...          ...   \n",
              "12552  2019-04-19T16:00:28Z         0.0     0.040874     0.185068   \n",
              "12553  2019-04-19T16:00:24Z         0.0     0.089204     0.480304   \n",
              "12554  2019-04-19T16:00:23Z         1.0     0.063890     0.488614   \n",
              "12555  2019-04-19T16:00:22Z         3.0     0.110424     0.472392   \n",
              "12556                   NaN         NaN  2113.000000  4184.000000   \n",
              "\n",
              "          positive overall_sentiment  \n",
              "0         0.090986           neutral  \n",
              "1         0.279411           neutral  \n",
              "2         0.942697          positive  \n",
              "3         0.010900          negative  \n",
              "4         0.061212           neutral  \n",
              "...            ...               ...  \n",
              "12552     0.774059          positive  \n",
              "12553     0.430492           neutral  \n",
              "12554     0.447495           neutral  \n",
              "12555     0.417184           neutral  \n",
              "12556  6259.000000               NaN  \n",
              "\n",
              "[12557 rows x 7 columns]"
            ]
          },
          "metadata": {},
          "output_type": "display_data"
        }
      ],
      "source": [
        "display(pd.DataFrame(youtubeAnalysisResults))"
      ]
    },
    {
      "cell_type": "code",
      "execution_count": 24,
      "metadata": {
        "colab": {
          "base_uri": "https://localhost:8080/"
        },
        "id": "_yq0aEuIPkop",
        "outputId": "85592d79-ac71-45e9-aa67-e80d7f990217"
      },
      "outputs": [
        {
          "name": "stdout",
          "output_type": "stream",
          "text": [
            "{'negative': 2113, 'neutral': 4184, 'positive': 6259}\n"
          ]
        }
      ],
      "source": [
        "print(youtubeAnalysisResults[-1])"
      ]
    },
    {
      "cell_type": "code",
      "execution_count": null,
      "metadata": {},
      "outputs": [],
      "source": []
    }
  ],
  "metadata": {
    "accelerator": "GPU",
    "colab": {
      "collapsed_sections": [
        "kmJ2oeGYQS45"
      ],
      "gpuType": "T4",
      "provenance": []
    },
    "kernelspec": {
      "display_name": "Python 3",
      "name": "python3"
    },
    "language_info": {
      "codemirror_mode": {
        "name": "ipython",
        "version": 3
      },
      "file_extension": ".py",
      "mimetype": "text/x-python",
      "name": "python",
      "nbconvert_exporter": "python",
      "pygments_lexer": "ipython3",
      "version": "3.12.3"
    }
  },
  "nbformat": 4,
  "nbformat_minor": 0
}
